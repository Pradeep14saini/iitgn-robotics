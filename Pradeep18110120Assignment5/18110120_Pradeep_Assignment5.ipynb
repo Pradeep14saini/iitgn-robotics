{
  "nbformat": 4,
  "nbformat_minor": 0,
  "metadata": {
    "colab": {
      "name": "18110120_Pradeep_Assignment5.ipynb",
      "provenance": []
    },
    "kernelspec": {
      "name": "python3",
      "display_name": "Python 3"
    },
    "language_info": {
      "name": "python"
    }
  },
  "cells": [
    {
      "cell_type": "markdown",
      "metadata": {
        "id": "kaLGM71yAQFw"
      },
      "source": [
        "**Inverse_kinematic_functions(from repository)**"
      ]
    },
    {
      "cell_type": "code",
      "metadata": {
        "id": "7yMESP-2ApIH"
      },
      "source": [
        "import math \n",
        "def scara_invkin(x,y,z,d1,d2):\n",
        "    # using formulae from the textbook\n",
        "    r = abs((x**2+y**2-d1**2-d2**2)/(2*d1*d2))\n",
        "    theta2 = np.arctan(np.sqrt(abs(1-r**2))/r)\n",
        "    theta1 = np.arctan(y/x) - np.arctan((d2*np.sin(theta2))/(d1+d2*np.cos(theta2)))\n",
        "    d3 = -z\n",
        "    # converting from radians to degrees\n",
        "    theta1 = theta1\n",
        "    theta2 = theta2\n",
        "    return theta1,theta2,d3\n",
        "\n",
        "\n",
        "def stanford_invkin(endeffector_position,lengthsoflinks):\n",
        "    theta1 = np.arctan(endeffector_position[1]/endeffector_position[0])\n",
        "    r = np.sqrt(endeffector_position[0]**2 + endeffector_position[1]**2)\n",
        "    s = endeffector_position[2] - lengthsoflinks[0]\n",
        "    theta2 = np.arctan(s/r)\n",
        "    d3 = np.sqrt(r**2 + s**2) - lengthsoflinks[1]\n",
        "    return theta1, theta2, d3\n",
        "\n",
        "def PUMA_invkin(l1,l2,l3,xc,yc,zc):\n",
        "    theta1 = math.atan2(yc,xc)\n",
        "    D = (xc*xc+yc*yc+(zc-l1)*(zc-l1)-l2*l2-l3*l3)/(2*l2*l3)\n",
        "    if D>=1 or D<=-1:\n",
        "        print(\"singular configuration\")\n",
        "    if D>1 or D<-1:\n",
        "        print(\"outside workspace\")\n",
        "    theta3 = (math.atan2((-math.sqrt(1-D*D)),D))\n",
        "    theta2 = math.atan2(zc-l1,(math.sqrt(xc*xc+yc*yc)))-math.atan2((l3*math.sin(theta3)),(l2+l3*math.cos(theta3)))\n",
        "    theta3 = theta3\n",
        "    return theta1,theta2,theta3"
      ],
      "execution_count": 116,
      "outputs": []
    },
    {
      "cell_type": "markdown",
      "metadata": {
        "id": "aM94rIv4pCjy"
      },
      "source": [
        "**Q3-SCARA ROBOT**"
      ]
    },
    {
      "cell_type": "markdown",
      "metadata": {
        "id": "SOJcx9bcqOxO"
      },
      "source": [
        "**Scara dynamics**"
      ]
    },
    {
      "cell_type": "code",
      "metadata": {
        "colab": {
          "base_uri": "https://localhost:8080/"
        },
        "id": "O1m_tvw-FD6C",
        "outputId": "8ef45809-bef9-439d-b913-3bf0f3571b7f"
      },
      "source": [
        "# Import sympy\n",
        "from sympy import *\n",
        "import numpy as np\n",
        "\n",
        "l1=10\n",
        "l2=10\n",
        "d=10\n",
        "m1=10\n",
        "m2=10\n",
        "m3=10\n",
        "I1 = m1*(l1**2)/3\n",
        "I2 = m2*(l2**2)/3\n",
        "\n",
        "q1, q2, q3=symbols(\"q1 q2 q3\")\n",
        "\n",
        "J_vc1 = np.array([[(-l1/2)*sin(q1), 0, 0],[(l1/2)*cos(q1), 0, 0],[0, 0, 0]])\n",
        "J_vc2 = np.array([[-l1*sin(q1)-(l2/2)*sin(q1+q2), (-l2/2)*sin(q1+q2), 0],[l1*cos(q1)+(l2/2)*cos(q1+q2), (l2/2)*cos(q1+q2), 0],[0, 0, 0]])\n",
        "J_vc3 = np.array([[-l1*sin(q1)-l2*sin(q1+q2), l2*sin(q1+q2), 0],[l1*cos(q1)+l2*cos(q1+q2), l2*cos(q1+q2), 0],[0, 0, -1/2]])\n",
        "\n",
        "d1=m1*np.matmul(np.transpose(J_vc1), J_vc1)\n",
        "d2=m2*np.matmul(np.transpose(J_vc2), J_vc2)\n",
        "d3=m3*np.matmul(np.transpose(J_vc3), J_vc3)\n",
        "\n",
        "d_sum=np.add(np.add(d1,d2),d3)\n",
        "I_sum=np.array([[I1+I2, I2, 0],[I2, I2, 0],[0, 0, 0]])\n",
        "D_q= simplify(np.add(d_sum,I_sum))\n",
        "print(\"D_q =\",D_q,\"\\n\")\n",
        "\n",
        "q=np.array([q1,q2,q3])\n",
        "\n",
        "c = [[[0,0,0],[0,0,0],[0,0,0]],[[0,0,0],[0,0,0],[0,0,0]],[[0,0,0],[0,0,0],[0,0,0]]]\n",
        "\n",
        "# Calculating Christoffer Symbols\n",
        "for k in range(0,3):\n",
        "  for j in range(0,3):\n",
        "    for i in range(0,3):\n",
        "      c[i][j][k] = 0.5 * (diff(D_q[k][j], q[i]) + diff(D_q[k][i], q[j]) - diff(D_q[i][j], q[k]))\n",
        "    \n",
        "V_q = 13 * sin(q[0]) + 45 * (5 * sin(q[0]) + 3 * sin(q[0]))\n",
        "\n",
        "Phi = [0] * 3\n",
        "ct = 0\n",
        "d=0\n",
        "T = [0] * 3\n",
        "q1d, q1dd, q2d, q2dd, q3d,q3dd = symbols(\"q1d q1dd q2d q2dd q3d q3dd\")\n",
        "qad = np.array([q1d, q2d, q3d])\n",
        "qadd = np.array([q1dd, q2dd, q3dd])\n",
        "for k in range(3): #corresponds to each link\n",
        "      Phi[k] = diff(V_q, q[k])\n",
        "      for j in range(3):\n",
        "        d = d + D_q[k][j] * qadd[j] \n",
        "        for i in range(3):\n",
        "          # print(\"i =\",i,c[i][j][k])\n",
        "          ct = ct + c[i][j][k] * qad[i] * qad[j]\n",
        "          # print(\"ct =\", ct)\n",
        "      T[k] = d + ct + Phi[k]\n",
        "      print(\"T(\",k+1,\") =\",simplify(T[k]),\"\\n\")   \n",
        "\n"
      ],
      "execution_count": 95,
      "outputs": [
        {
          "output_type": "stream",
          "name": "stdout",
          "text": [
            "D_q = [[3000.0*cos(q2) + 4166.66666666667, 500.0*cos(q2) + 1000.0*cos(2*q1 + q2) + 1000.0*cos(2*q1 + 2*q2) + 583.333333333333, 0], [500.0*cos(q2) + 1000.0*cos(2*q1 + q2) + 1000.0*cos(2*q1 + 2*q2) + 583.333333333333, 1583.33333333333, 0], [0, 0, 2.5]] \n",
            "\n",
            "T( 1 ) = -3000.0*q1d*q2d*sin(q2) + q1dd*(3000.0*cos(q2) + 4166.66666666667) - q2d**2*(500.0*sin(q2) + 1000.0*sin(2*q1 + q2) + 2000.0*sin(2*q1 + 2*q2)) + q2dd*(500.0*cos(q2) + 1000.0*cos(2*q1 + q2) + 1000.0*cos(2*q1 + 2*q2) + 583.333333333333) + 373*cos(q1) \n",
            "\n",
            "T( 2 ) = 1500.0*q1d**2*sin(q2) - 2000.0*q1d**2*sin(2*q1 + q2) - 2000.0*q1d**2*sin(2*q1 + 2*q2) - 3000.0*q1d*q2d*sin(q2) + 3500.0*q1dd*cos(q2) + 1000.0*q1dd*cos(2*q1 + q2) + 1000.0*q1dd*cos(2*q1 + 2*q2) + 4750.0*q1dd - 500.0*q2d**2*sin(q2) - 1000.0*q2d**2*sin(2*q1 + q2) - 2000.0*q2d**2*sin(2*q1 + 2*q2) + 500.0*q2dd*cos(q2) + 1000.0*q2dd*cos(2*q1 + q2) + 1000.0*q2dd*cos(2*q1 + 2*q2) + 2166.66666666667*q2dd \n",
            "\n",
            "T( 3 ) = 1500.0*q1d**2*sin(q2) - 2000.0*q1d**2*sin(2*q1 + q2) - 2000.0*q1d**2*sin(2*q1 + 2*q2) - 3000.0*q1d*q2d*sin(q2) + 3500.0*q1dd*cos(q2) + 1000.0*q1dd*cos(2*q1 + q2) + 1000.0*q1dd*cos(2*q1 + 2*q2) + 4750.0*q1dd - 500.0*q2d**2*sin(q2) - 1000.0*q2d**2*sin(2*q1 + q2) - 2000.0*q2d**2*sin(2*q1 + 2*q2) + 500.0*q2dd*cos(q2) + 1000.0*q2dd*cos(2*q1 + q2) + 1000.0*q2dd*cos(2*q1 + 2*q2) + 2166.66666666667*q2dd + 2.5*q3dd \n",
            "\n"
          ]
        }
      ]
    },
    {
      "cell_type": "code",
      "metadata": {
        "id": "mk9CQqVY34j0"
      },
      "source": [
        "!pip install slycot\n",
        "!pip install control"
      ],
      "execution_count": null,
      "outputs": []
    },
    {
      "cell_type": "code",
      "metadata": {
        "id": "XXDXjsuB8BQt"
      },
      "source": [
        "%matplotlib inline\n",
        "\n",
        "import numpy as np\n",
        "import sympy\n",
        "import seaborn as sns\n",
        "import matplotlib.pyplot as plt\n",
        "import control.matlab as control"
      ],
      "execution_count": 15,
      "outputs": []
    },
    {
      "cell_type": "markdown",
      "metadata": {
        "id": "aQodbatTqYSL"
      },
      "source": [
        "**Scara PI control**"
      ]
    },
    {
      "cell_type": "code",
      "metadata": {
        "colab": {
          "base_uri": "https://localhost:8080/",
          "height": 564
        },
        "id": "jhwDzhRd8k-r",
        "outputId": "7c08ea05-2066-4200-ce51-4039e542a7e0"
      },
      "source": [
        "# desired Point 1\n",
        "xd = [15,10,1]\n",
        "theta1_ds= scara_invkin(xd[0],xd[1],xd[2],l1,l2)\n",
        "print(theta1_ds)\n",
        "\n",
        "def PI_control(K,Kp,Ki,J_eff,B_eff,r,d,theta_d):\n",
        "  nu1 = [Kp*theta_d-r*d, Ki*theta_d]\n",
        "  omega1_s = [J_eff, B_eff, K*Kp, K*Ki]\n",
        "  TF_close1=control.tf(nu1, omega1_s)\n",
        "  print(\"Theta_m =\",TF_close1)\n",
        "  \n",
        "  y1,t1 = control.step(TF_close1)\n",
        "  plt.plot(t1,y1)\n",
        "  plt.xlabel('Time')\n",
        "  plt.title('Step Response')\n",
        "  \n",
        "\n",
        "D_q_v=[[0,0,0],[0,0,0],[0,0,0]]\n",
        "\n",
        "for i in range(3):\n",
        "  for j in range(3):\n",
        "    f = D_q[i][j]\n",
        "    f1 = lambdify([q1,q2,q3],f)\n",
        "    D_q_v[i][j] = f1(1,2,1)\n",
        "# print(D_q_v)\n",
        "\n",
        "# for link1\n",
        "K = 0.8\n",
        "Bm = 0.015\n",
        "Jm = 0.0004\n",
        "kb = 0.0002\n",
        "\n",
        "# for link1\n",
        "r = 0.00032\n",
        "dkk=D_q_v[0][0]\n",
        "J_eff = Jm + (r**2)*dkk\n",
        "B_eff = Bm + kb*k\n",
        "d=m1*9.81\n",
        "theta_d1 = theta1_ds[0]\n",
        "\n",
        "Kp_1=0.28\n",
        "Ki_1=0.9\n",
        "\n",
        "PI_control(K,Kp_1,Ki_1,J_eff,B_eff,r,d,theta_d1)\n",
        "\n",
        "# for link2\n",
        "r = 0.00032\n",
        "dkk=D_q_v[1][1]\n",
        "J_eff = Jm + (r**2)*dkk\n",
        "B_eff = Bm + kb*k\n",
        "d=(m1+m2)*9.81\n",
        "theta_d2 = theta1_ds[1]\n",
        "\n",
        "Kp_2=0.21\n",
        "Ki_2=0.6\n",
        "\n",
        "PI_control(K,Kp_2,Ki_2,J_eff,B_eff,r,d,theta_d2)\n",
        "\n",
        "# for link3\n",
        "r = 0.00032\n",
        "dkk=D_q_v[2][2]\n",
        "J_eff = Jm + (r**2)*dkk\n",
        "B_eff = Bm + kb*k\n",
        "d=(m1+m2+m3)*9.81\n",
        "theta_d3 = theta1_ds[2]\n",
        "\n",
        "Kp_3=0.335\n",
        "Ki_3=0.9\n",
        "\n",
        "PI_control(K,Kp_3,Ki_3,J_eff,B_eff,r,d,theta_d3)"
      ],
      "execution_count": 244,
      "outputs": [
        {
          "output_type": "stream",
          "name": "stdout",
          "text": [
            "(0.14017020661863505, 0.895664793857865, -1)\n",
            "Theta_m = \n",
            "            0.007856 s + 0.1262\n",
            "-------------------------------------------\n",
            "0.0006988 s^3 + 0.0154 s^2 + 0.224 s + 0.72\n",
            "\n",
            "Theta_m = \n",
            "             0.1253 s + 0.5374\n",
            "-------------------------------------------\n",
            "0.0005621 s^3 + 0.0154 s^2 + 0.168 s + 0.48\n",
            "\n",
            "Theta_m = \n",
            "              -0.4292 s - 0.9\n",
            "-------------------------------------------\n",
            "0.0004003 s^3 + 0.0154 s^2 + 0.268 s + 0.72\n",
            "\n"
          ]
        },
        {
          "output_type": "display_data",
          "data": {
            "image/png": "[encoded data removed]",
            "text/plain": [
              "<Figure size 432x288 with 1 Axes>"
            ]
          },
          "metadata": {
            "needs_background": "light"
          }
        }
      ]
    },
    {
      "cell_type": "code",
      "metadata": {
        "colab": {
          "base_uri": "https://localhost:8080/",
          "height": 564
        },
        "id": "M3blr6mJZl3_",
        "outputId": "0d63291e-01d7-4bfd-abc0-647c2b489f87"
      },
      "source": [
        "# desired Point 2\n",
        "xd = [16,11,0.9]\n",
        "theta1_ds= scara_invkin(xd[0],xd[1],xd[2],l1,l2)\n",
        "print(theta1_ds)\n",
        "\n",
        "def PI_control(K,Kp,Ki,J_eff,B_eff,r,d,theta_d):\n",
        "  nu1 = [Kp*theta_d-r*d, Ki*theta_d]\n",
        "  omega1_s = [J_eff, B_eff, K*Kp, K*Ki]\n",
        "  TF_close1=control.tf(nu1, omega1_s)\n",
        "  print(\"Theta_m =\",TF_close1)\n",
        "  \n",
        "  y1,t1 = control.step(TF_close1)\n",
        "  plt.plot(t1,y1)\n",
        "  plt.xlabel('Time')\n",
        "  plt.title('Step Response')\n",
        "  \n",
        "\n",
        "D_q_v=[[0,0,0],[0,0,0],[0,0,0]]\n",
        "\n",
        "for i in range(3):\n",
        "  for j in range(3):\n",
        "    f = D_q[i][j]\n",
        "    f1 = lambdify([q1,q2,q3],f)\n",
        "    D_q_v[i][j] = f1(1,2,1)\n",
        "# print(D_q_v)\n",
        "\n",
        "# for link1\n",
        "K = 0.8\n",
        "Bm = 0.015\n",
        "Jm = 0.0004\n",
        "kb = 0.0002\n",
        "\n",
        "# for link1\n",
        "r = 0.00032\n",
        "dkk=D_q_v[0][0]\n",
        "J_eff = Jm + (r**2)*dkk\n",
        "B_eff = Bm + kb*k\n",
        "d=m1*9.81\n",
        "theta_d1 = theta1_ds[0]\n",
        "\n",
        "Kp_1=0.32\n",
        "Ki_1=0.85\n",
        "\n",
        "PI_control(K,Kp_1,Ki_1,J_eff,B_eff,r,d,theta_d1)\n",
        "\n",
        "# for link2\n",
        "r = 0.00032\n",
        "dkk=D_q_v[1][1]\n",
        "J_eff = Jm + (r**2)*dkk\n",
        "B_eff = Bm + kb*k\n",
        "d=(m1+m2)*9.81\n",
        "theta_d2 = theta1_ds[1]\n",
        "\n",
        "Kp_2=0.19\n",
        "Ki_2=0.58\n",
        "\n",
        "PI_control(K,Kp_2,Ki_2,J_eff,B_eff,r,d,theta_d2)\n",
        "\n",
        "# for link3\n",
        "r = 0.00032\n",
        "dkk=D_q_v[2][2]\n",
        "J_eff = Jm + (r**2)*dkk\n",
        "B_eff = Bm + kb*k\n",
        "d=(m1+m2+m3)*9.81\n",
        "theta_d3 = theta1_ds[2]\n",
        "\n",
        "Kp_3=0.42\n",
        "Ki_3=1.2\n",
        "\n",
        "PI_control(K,Kp_3,Ki_3,J_eff,B_eff,r,d,theta_d3)"
      ],
      "execution_count": 258,
      "outputs": [
        {
          "output_type": "stream",
          "name": "stdout",
          "text": [
            "(0.3601361882620042, 0.48430231574591986, -0.9)\n",
            "Theta_m = \n",
            "            0.08385 s + 0.3061\n",
            "-------------------------------------------\n",
            "0.0006988 s^3 + 0.0154 s^2 + 0.256 s + 0.68\n",
            "\n",
            "Theta_m = \n",
            "             0.02923 s + 0.2809\n",
            "--------------------------------------------\n",
            "0.0005621 s^3 + 0.0154 s^2 + 0.152 s + 0.464\n",
            "\n",
            "Theta_m = \n",
            "             -0.4722 s - 1.08\n",
            "-------------------------------------------\n",
            "0.0004003 s^3 + 0.0154 s^2 + 0.336 s + 0.96\n",
            "\n"
          ]
        },
        {
          "output_type": "display_data",
          "data": {
            "image/png": "[encoded data removed]",
            "text/plain": [
              "<Figure size 432x288 with 1 Axes>"
            ]
          },
          "metadata": {
            "needs_background": "light"
          }
        }
      ]
    },
    {
      "cell_type": "markdown",
      "metadata": {
        "id": "8mLzg3xos7cu"
      },
      "source": [
        "**STANFORD MANIPULATOR**"
      ]
    },
    {
      "cell_type": "markdown",
      "metadata": {
        "id": "UX6RhJdhtCdU"
      },
      "source": [
        "**Stanford dynamics**"
      ]
    },
    {
      "cell_type": "code",
      "metadata": {
        "colab": {
          "base_uri": "https://localhost:8080/"
        },
        "id": "kySBdOcssGeW",
        "outputId": "f20e4877-175e-4131-992c-17eb43817bc5"
      },
      "source": [
        "l1=12\n",
        "l2=10\n",
        "d=5\n",
        "m1=5\n",
        "m2=8\n",
        "m3=7\n",
        "I1 = 0\n",
        "I2 = m2*(l2**2)/3\n",
        "\n",
        "q1, q2, q3=symbols(\"q1 q2 q3\")\n",
        "\n",
        "J_vc1 = np.array([[0, 0, 0],[0, 0, 0],[0, 0, 0]])\n",
        "J_vc2 = np.array([[-(l2/2)*sin(q1)*cos(q2), (-l2/2)*cos(q1)*sin(q2), 0],[(l2/2)*cos(q1)*cos(q2), -(l2/2)*sin(q1)*sin(q2), 0],[0, (l2/2)*cos(q2), 0]])\n",
        "J_vc3 = np.array([[-((d/2)+l2)*sin(q1)*cos(q2), -((d/2)+l2)*cos(q1)*sin(q2), 0.5*cos(q1)*cos(q2)],[((d/2)+l2)*cos(q1)*cos(q2), -((d/2)+l2)*sin(q1)*sin(q2), 0.5*sin(q1)*cos(q2)],[0, (l2+(d/2))*cos(q2), 0.5*sin(q2)]])\n",
        "\n",
        "d1=m1*np.matmul(np.transpose(J_vc1), J_vc1)\n",
        "d2=m2*np.matmul(np.transpose(J_vc2), J_vc2)\n",
        "d3=m3*np.matmul(np.transpose(J_vc3), J_vc3)\n",
        "\n",
        "d_sum=np.add(np.add(d1,d2),d3)\n",
        "I_sum=np.array([[I1+I2, 0, 0],[0, I2, 0],[0, 0, 0]])\n",
        "D_q= simplify(np.add(d_sum,I_sum))\n",
        "print(\"D_q =\",D_q,\"\\n\")\n",
        "\n",
        "q=np.array([q1,q2,q3])\n",
        "\n",
        "c = [[[0,0,0],[0,0,0],[0,0,0]],[[0,0,0],[0,0,0],[0,0,0]],[[0,0,0],[0,0,0],[0,0,0]]]\n",
        "\n",
        "# Calculating Christoffer Symbols\n",
        "for k in range(0,3):\n",
        "  for j in range(0,3):\n",
        "    for i in range(0,3):\n",
        "      c[i][j][k] = 0.5 * (diff(D_q[k][j], q[i]) + diff(D_q[k][i], q[j]) - diff(D_q[i][j], q[k]))\n",
        "    \n",
        "V_q = 13 * sin(q[0]) + 45 * (5 * sin(q[0]) + 3 * sin(q[0]))\n",
        "\n",
        "Phi = [0] * 3\n",
        "ct = 0\n",
        "d=0\n",
        "T = [0] * 3\n",
        "q1d, q1dd, q2d, q2dd, q3d,q3dd = symbols(\"q1d q1dd q2d q2dd q3d q3dd\")\n",
        "qad = np.array([q1d, q2d, q3d])\n",
        "qadd = np.array([q1dd, q2dd, q3dd])\n",
        "for k in range(3): #corresponds to each link\n",
        "      Phi[k] = diff(V_q, q[k])\n",
        "      for j in range(3):\n",
        "        d = d + D_q[k][j] * qadd[j] \n",
        "        for i in range(3):\n",
        "          # print(\"i =\",i,c[i][j][k])\n",
        "          ct = ct + c[i][j][k] * qad[i] * qad[j]\n",
        "          # print(\"ct =\", ct)\n",
        "      T[k] = d + ct + Phi[k]\n",
        "      print(\"T(\",k+1,\") =\",simplify(T[k]),\"\\n\")"
      ],
      "execution_count": 32,
      "outputs": [
        {
          "output_type": "stream",
          "name": "stdout",
          "text": [
            "D_q = [[1560.41666666667 - 1293.75*sin(q2)**2, 0, 0], [0, 1560.41666666667, 0], [0, 0, 1.75]] \n",
            "\n",
            "T( 1 ) = -1293.75*q1d*q2d*sin(2*q2) - q1dd*(1293.75*sin(q2)**2 - 1560.41666666667) + 373*cos(q1) \n",
            "\n",
            "T( 2 ) = 646.875*q1d**2*sin(2*q2) - 1293.75*q1d*q2d*sin(2*q2) - q1dd*(1293.75*sin(q2)**2 - 1560.41666666667) + 1560.41666666667*q2dd \n",
            "\n",
            "T( 3 ) = 646.875*q1d**2*sin(2*q2) - 1293.75*q1d*q2d*sin(2*q2) - q1dd*(1293.75*sin(q2)**2 - 1560.41666666667) + 1560.41666666667*q2dd + 1.75*q3dd \n",
            "\n"
          ]
        }
      ]
    },
    {
      "cell_type": "markdown",
      "metadata": {
        "id": "0RtYCGZtxs5M"
      },
      "source": [
        "**Stanford PI control**"
      ]
    },
    {
      "cell_type": "code",
      "metadata": {
        "colab": {
          "base_uri": "https://localhost:8080/",
          "height": 564
        },
        "id": "pJxbc7d-xx_Q",
        "outputId": "f108cf3b-9c32-4beb-e965-6eb29abeb304"
      },
      "source": [
        "# point1\n",
        "xd = [8,9,5]\n",
        "theta_ds= stanford_invkin(xd,[l1,l2])\n",
        "print(theta_ds)\n",
        "\n",
        "def PI_control(K,Kp,Ki,J_eff,B_eff,r,d,theta_d):\n",
        "  nu1 = [Kp*theta_d-r*d, Ki*theta_d]\n",
        "  omega1_s = [J_eff, B_eff, K*Kp, K*Ki]\n",
        "  TF_close1=control.tf(nu1, omega1_s)\n",
        "  print(\"Theta_m =\",TF_close1)\n",
        "\n",
        "  y1,t1 = control.step(TF_close1)\n",
        "  plt.plot(t1,y1)\n",
        "  plt.xlabel('Time')\n",
        "  plt.title('Step Response')\n",
        "\n",
        "D_q_v=[[0,0,0],[0,0,0],[0,0,0]]\n",
        "\n",
        "for i in range(3):\n",
        "  for j in range(3):\n",
        "    f = D_q[i][j]\n",
        "    f1 = lambdify([q1,q2,q3],f)\n",
        "    D_q_v[i][j] = f1(1,2,1)\n",
        "# print(D_q_v)\n",
        "\n",
        "# for link1\n",
        "K = 0.8\n",
        "Bm = 0.015\n",
        "Jm = 0.004\n",
        "kb = 0.0002\n",
        "\n",
        "# for link1\n",
        "r = 0.0032\n",
        "dkk=D_q_v[0][0]\n",
        "J_eff = Jm + (r**2)*dkk\n",
        "B_eff = Bm + kb*k\n",
        "(m1)*9.81\n",
        "theta_d = 1\n",
        "\n",
        "Kp_1= 0.8\n",
        "Ki_1= 0.00015\n",
        "\n",
        "Kp_2=0.75\n",
        "Ki_2=0.00025\n",
        "\n",
        "Kp_3=0.65\n",
        "Ki_3=0.00015\n",
        "\n",
        "PI_control(K,Kp_1,Ki_1,J_eff,B_eff,r,d,theta_d)\n",
        "PI_control(K,Kp_2,Ki_2,J_eff,B_eff,r,d,theta_d)\n",
        "PI_control(K,Kp_3,Ki_3,J_eff,B_eff,r,d,theta_d)\n"
      ],
      "execution_count": 111,
      "outputs": [
        {
          "output_type": "stream",
          "name": "stdout",
          "text": [
            "(0.844153986113171, -0.393564135328064, 3.0384048104052983)\n",
            "Theta_m = \n",
            "            0.4861 s + 0.00015\n",
            "-------------------------------------------\n",
            "0.03388 s^3 + 0.0154 s^2 + 0.64 s + 0.00012\n",
            "\n",
            "Theta_m = \n",
            "           0.4361 s + 0.00025\n",
            "-----------------------------------------\n",
            "0.03388 s^3 + 0.0154 s^2 + 0.6 s + 0.0002\n",
            "\n",
            "Theta_m = \n",
            "            0.3361 s + 0.00015\n",
            "-------------------------------------------\n",
            "0.03388 s^3 + 0.0154 s^2 + 0.52 s + 0.00012\n",
            "\n"
          ]
        },
        {
          "output_type": "display_data",
          "data": {
            "image/png": "[encoded data removed]",
            "text/plain": [
              "<Figure size 432x288 with 1 Axes>"
            ]
          },
          "metadata": {
            "needs_background": "light"
          }
        }
      ]
    },
    {
      "cell_type": "markdown",
      "metadata": {
        "id": "QZL-fOrkyfuc"
      },
      "source": [
        "**Q2.4 PUMA Manipulator**"
      ]
    },
    {
      "cell_type": "markdown",
      "metadata": {
        "id": "G3HVsjFIyle8"
      },
      "source": [
        "**Puma Dynamics**"
      ]
    },
    {
      "cell_type": "code",
      "metadata": {
        "colab": {
          "base_uri": "https://localhost:8080/"
        },
        "id": "6VlN4JFAywj8",
        "outputId": "a63b6e45-b678-4f71-bc3e-025ce638a453"
      },
      "source": [
        "l1=12\n",
        "l2=10\n",
        "l3=7\n",
        "m1=5\n",
        "m2=8\n",
        "m3=7\n",
        "I1 = 0\n",
        "I2 = m2*(l2**2)/3\n",
        "I3 = m3*(l3**2)/3\n",
        "\n",
        "q1, q2, q3=symbols(\"q1 q2 q3\")\n",
        "\n",
        "J_vc1 = np.array([[0, 0, 0],[0, 0, 0],[0, 0, 0]])\n",
        "J_vc2 = np.array([[-(l2/2)*sin(q1)*cos(q2), (-l2/2)*cos(q1)*sin(q2), 0],[(l2/2)*cos(q1)*cos(q2), -(l2/2)*sin(q1)*sin(q2), 0],[0, (l2/2)*cos(q2), 0]])\n",
        "J_vc3 = np.array([[-((l3/2)*cos(q3)+l2)*sin(q1)*cos(q2), -((l3/2)*cos(q3)+l2)*cos(q1)*sin(q2), 0.5*l3*cos(q1)*cos(q2)*sin(q3)],[((l3/2)*cos(q3)+l2)*cos(q1)*cos(q2), -((l3/2)*cos(q3)+l2)*sin(q1)*sin(q2), 0.5*l3*sin(q1)*cos(q2)*sin(q3)],[0, l2*cos(q2), 0.5*l3*cos(q2)]])\n",
        "\n",
        "d1=m1*np.matmul(np.transpose(J_vc1), J_vc1)\n",
        "d2=m2*np.matmul(np.transpose(J_vc2), J_vc2)\n",
        "d3=m3*np.matmul(np.transpose(J_vc3), J_vc3)\n",
        "\n",
        "d_sum=np.add(np.add(d1,d2),d3)\n",
        "I_sum=np.array([[I1+I2+I3, 0, 0],[0, I2+I3, I3],[0, I3, I3]])\n",
        "D_q= simplify(np.add(d_sum,I_sum))\n",
        "print(\"D_q =\",D_q,\"\\n\")\n",
        "\n",
        "q=np.array([q1,q2,q3])\n",
        "\n",
        "c = [[[0,0,0],[0,0,0],[0,0,0]],[[0,0,0],[0,0,0],[0,0,0]],[[0,0,0],[0,0,0],[0,0,0]]]\n",
        "\n",
        "# Calculating Christoffer Symbols\n",
        "for k in range(0,3):\n",
        "  for j in range(0,3):\n",
        "    for i in range(0,3):\n",
        "      c[i][j][k] = 0.5 * (diff(D_q[k][j], q[i]) + diff(D_q[k][i], q[j]) - diff(D_q[i][j], q[k]))\n",
        "    \n",
        "V_q = 13 * sin(q[0]) + 45 * (5 * sin(q[0]) + 3 * sin(q[0]))\n",
        "\n",
        "Phi = [0] * 3\n",
        "ct = 0\n",
        "d=0\n",
        "T = [0] * 3\n",
        "q1d, q1dd, q2d, q2dd, q3d,q3dd = symbols(\"q1d q1dd q2d q2dd q3d q3dd\")\n",
        "qad = np.array([q1d, q2d, q3d])\n",
        "qadd = np.array([q1dd, q2dd, q3dd])\n",
        "for k in range(3): #corresponds to each link\n",
        "      Phi[k] = diff(V_q, q[k])\n",
        "      for j in range(3):\n",
        "        d = d + D_q[k][j] * qadd[j] \n",
        "        for i in range(3):\n",
        "          # print(\"i =\",i,c[i][j][k])\n",
        "          ct = ct + c[i][j][k] * qad[i] * qad[j]\n",
        "          # print(\"ct =\", ct)\n",
        "      T[k] = d + ct + Phi[k]\n",
        "      print(\"T(\",k+1,\") =\",simplify(T[k]),\"\\n\")"
      ],
      "execution_count": 41,
      "outputs": [
        {
          "output_type": "stream",
          "name": "stdout",
          "text": [
            "D_q = [[85.75*cos(q2)**2*cos(q3)**2 + 490.0*cos(q2)**2*cos(q3) + 900.0*cos(q2)**2 + 381.0, 0, 0], [0, -85.75*sin(q2)**2*sin(q3)**2 + 490.0*sin(q2)**2*cos(q3) + 85.75*sin(q2)**2 + 1281.0, 122.5*cos(2*q2) - 10.71875*cos(2*q2 - 2*q3) - 61.25*cos(2*q2 - q3) + 61.25*cos(2*q2 + q3) + 10.71875*cos(2*q2 + 2*q3) + 236.833333333333], [0, 122.5*cos(2*q2) - 10.71875*cos(2*q2 - 2*q3) - 61.25*cos(2*q2 - q3) + 61.25*cos(2*q2 + q3) + 10.71875*cos(2*q2 + 2*q3) + 236.833333333333, -85.75*cos(q2)**2*cos(q3)**2 + 171.5*cos(q2)**2 + 114.333333333333]] \n",
            "\n",
            "T( 1 ) = -2*q1d*q2d*(85.75*cos(q3)**2 + 490.0*cos(q3) + 900.0)*sin(q2)*cos(q2) - 2*q1d*q3d*(85.75*cos(q3) + 245.0)*sin(q3)*cos(q2)**2 + q1dd*(85.75*cos(q2)**2*cos(q3)**2 + 490.0*cos(q2)**2*cos(q3) + 900.0*cos(q2)**2 + 381.0) + 373*cos(q1) \n",
            "\n",
            "T( 2 ) = q1d**2*(85.75*cos(q3)**2 + 490.0*cos(q3) + 900.0)*sin(q2)*cos(q2) - 2*q1d*q2d*(85.75*cos(q3)**2 + 490.0*cos(q3) + 900.0)*sin(q2)*cos(q2) - 2*q1d*q3d*(85.75*cos(q3) + 245.0)*sin(q3)*cos(q2)**2 + q1dd*(85.75*cos(q2)**2*cos(q3)**2 + 490.0*cos(q2)**2*cos(q3) + 900.0*cos(q2)**2 + 381.0) + q2d**2*(85.75*cos(q3) + 490.0)*sin(q2)*cos(q2)*cos(q3) - 2*q2d*q3d*(85.75*cos(q3) + 245.0)*sin(q2)**2*sin(q3) + q2dd*(-85.75*sin(q2)**2*sin(q3)**2 + 490.0*sin(q2)**2*cos(q3) + 85.75*sin(q2)**2 + 1281.0) + q3d**2*(257.25*sin(q3)**2 - 245.0*cos(q3))*sin(q2)*cos(q2) + q3dd*(122.5*cos(2*q2) - 10.71875*cos(2*q2 - 2*q3) - 61.25*cos(2*q2 - q3) + 61.25*cos(2*q2 + q3) + 10.71875*cos(2*q2 + 2*q3) + 236.833333333333) \n",
            "\n",
            "T( 3 ) = 471.4375*q1d**2*sin(2*q2) + 122.5*q1d**2*sin(q3) + 21.4375*q1d**2*sin(2*q3) + 61.25*q1d**2*sin(2*q2 - q3) + 183.75*q1d**2*sin(2*q2 + q3) + 21.4375*q1d**2*sin(2*q2 + 2*q3) - 942.875*q1d*q2d*sin(2*q2) - 21.4375*q1d*q2d*sin(2*q2 - 2*q3) - 245.0*q1d*q2d*sin(2*q2 - q3) - 245.0*q1d*q2d*sin(2*q2 + q3) - 21.4375*q1d*q2d*sin(2*q2 + 2*q3) - 245.0*q1d*q3d*sin(q3) - 42.875*q1d*q3d*sin(2*q3) + 21.4375*q1d*q3d*sin(2*q2 - 2*q3) + 122.5*q1d*q3d*sin(2*q2 - q3) - 122.5*q1d*q3d*sin(2*q2 + q3) - 21.4375*q1d*q3d*sin(2*q2 + 2*q3) + 471.4375*q1dd*cos(2*q2) + 245.0*q1dd*cos(q3) + 21.4375*q1dd*cos(2*q3) + 10.71875*q1dd*cos(2*q2 - 2*q3) + 122.5*q1dd*cos(2*q2 - q3) + 122.5*q1dd*cos(2*q2 + q3) + 10.71875*q1dd*cos(2*q2 + 2*q3) + 852.4375*q1dd - 223.5625*q2d**2*sin(2*q2) + 122.5*q2d**2*sin(q3) + 21.4375*q2d**2*sin(2*q3) + 42.875*q2d**2*sin(2*q2 - 2*q3) + 306.25*q2d**2*sin(2*q2 - q3) - 61.25*q2d**2*sin(2*q2 + q3) - 21.4375*q2d**2*sin(2*q2 + 2*q3) - 128.625*q2d*q3d*sin(2*q2) - 245.0*q2d*q3d*sin(q3) - 42.875*q2d*q3d*sin(2*q3) + 3.5527136788005e-15*q2d*q3d*sin(2*q2 - 2*q3) - 122.5*q2d*q3d*sin(2*q2 - q3) + 122.5*q2d*q3d*sin(2*q2 + q3) + 42.875*q2d*q3d*sin(2*q2 + 2*q3) + 101.0625*q2dd*cos(2*q2) + 245.0*q2dd*cos(q3) + 21.4375*q2dd*cos(2*q3) - 21.4375*q2dd*cos(2*q2 - 2*q3) - 183.75*q2dd*cos(2*q2 - q3) - 61.25*q2dd*cos(2*q2 + q3) + 1.77635683940025e-15*q2dd*cos(2*q2 + 2*q3) + 1539.27083333333*q2dd + 64.3125*q3d**2*sin(2*q2) + 21.4375*q3d**2*sin(2*q3) - 42.875*q3d**2*sin(2*q2 - 2*q3) - 61.25*q3d**2*sin(2*q2 - q3) - 61.25*q3d**2*sin(2*q2 + q3) - 21.4375*q3d**2*sin(2*q2 + 2*q3) + 186.8125*q3dd*cos(2*q2) - 21.4375*q3dd*cos(2*q3) - 21.4375*q3dd*cos(2*q2 - 2*q3) - 61.25*q3dd*cos(2*q2 - q3) + 61.25*q3dd*cos(2*q2 + q3) + 415.479166666667*q3dd \n",
            "\n"
          ]
        }
      ]
    },
    {
      "cell_type": "markdown",
      "metadata": {
        "id": "mk-xVHdfzJOM"
      },
      "source": [
        "**Puma PI control**"
      ]
    },
    {
      "cell_type": "code",
      "metadata": {
        "colab": {
          "base_uri": "https://localhost:8080/",
          "height": 564
        },
        "id": "i9sqIUKfzQQg",
        "outputId": "4b2a33a5-6797-4343-ebab-69bf92d2c55b"
      },
      "source": [
        "xd = [8,9,5]\n",
        "theta_ds= PUMA_invkin(l1,l2,l3,xd[0],xd[1],xd[2])\n",
        "print(theta_ds)\n",
        "\n",
        "def PI_control(K,Kp,Ki,J_eff,B_eff,r,d,theta_d):\n",
        "  nu1 = [Kp*theta_d-r*d, Ki*theta_d]\n",
        "  omega1_s = [J_eff, B_eff, K*Kp, K*Ki]\n",
        "  TF_close1=control.tf(nu1, omega1_s)\n",
        "  print(\"Theta_m =\",TF_close1)\n",
        "\n",
        "  y1,t1 = control.step(TF_close1)\n",
        "  plt.plot(t1,y1)\n",
        "  plt.xlabel('Time')\n",
        "  plt.title('Step Response')\n",
        "\n",
        "D_q_v=[[0,0,0],[0,0,0],[0,0,0]]\n",
        "\n",
        "for i in range(3):\n",
        "  for j in range(3):\n",
        "    f = D_q[i][j]\n",
        "    f1 = lambdify([q1,q2,q3],f)\n",
        "    D_q_v[i][j] = f1(1,2,1)\n",
        "# print(D_q_v)\n",
        "\n",
        "# for link1\n",
        "K = 0.8\n",
        "Bm = 0.015\n",
        "Jm = 0.004\n",
        "kb = 0.002\n",
        "\n",
        "# for link1\n",
        "r = 0.0032\n",
        "dkk=D_q_v[0][0]\n",
        "J_eff = Jm + (r**2)*dkk\n",
        "B_eff = Bm + kb*k\n",
        "d=(m1)*9.81\n",
        "theta_d = 2.0\n",
        "\n",
        "Kp_1= 0.14\n",
        "Ki_1= 0.01\n",
        "\n",
        "Kp_2=0.13\n",
        "Ki_2=0.015\n",
        "\n",
        "Kp_3=0.142\n",
        "Ki_3=0.012\n",
        "PI_control(K,Kp_1,Ki_1,J_eff,B_eff,r,d,theta_d)\n",
        "PI_control(K,Kp_2,Ki_2,J_eff,B_eff,r,d,theta_d)\n",
        "PI_control(K,Kp_3,Ki_3,J_eff,B_eff,r,d,theta_d)\n"
      ],
      "execution_count": 158,
      "outputs": [
        {
          "output_type": "stream",
          "name": "stdout",
          "text": [
            "(0.844153986113171, 0.16598161890435525, -1.4202280540182106)\n",
            "Theta_m = \n",
            "            -0.03392 s + 0.02\n",
            "-----------------------------------------\n",
            "0.03388 s^3 + 0.019 s^2 + 0.112 s + 0.008\n",
            "\n",
            "Theta_m = \n",
            "            -0.05392 s + 0.03\n",
            "-----------------------------------------\n",
            "0.03388 s^3 + 0.019 s^2 + 0.104 s + 0.012\n",
            "\n",
            "Theta_m = \n",
            "            -0.02992 s + 0.024\n",
            "-------------------------------------------\n",
            "0.03388 s^3 + 0.019 s^2 + 0.1136 s + 0.0096\n",
            "\n"
          ]
        },
        {
          "output_type": "display_data",
          "data": {
            "image/png": "[encoded data removed]",
            "text/plain": [
              "<Figure size 432x288 with 1 Axes>"
            ]
          },
          "metadata": {
            "needs_background": "light"
          }
        }
      ]
    }
  ]
}